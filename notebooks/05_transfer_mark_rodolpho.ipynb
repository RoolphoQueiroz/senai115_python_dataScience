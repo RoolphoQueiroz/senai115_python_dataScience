{
 "cells": [
  {
   "cell_type": "code",
   "execution_count": 15,
   "id": "f6c7af52-da98-412d-80b2-ef8bda708fd3",
   "metadata": {},
   "outputs": [],
   "source": [
    "#importar as bibliotecas\n",
    "from selenium import webdriver #manipular dados na web\n",
    "from selenium.webdriver.common.by import By\n"
   ]
  },
  {
   "cell_type": "code",
   "execution_count": 54,
   "id": "f5bea76e-0955-42d1-8581-64af56b3f3da",
   "metadata": {},
   "outputs": [
    {
     "name": "stdout",
     "output_type": "stream",
     "text": [
      "['84.567', '11', 'Primeira', 'Divisão', '14', '1.183.938', '12', '84.567']\n"
     ]
    }
   ],
   "source": [
    "driver = webdriver.Chrome()    #quando digitar o ponto após digitar o webdriver, é só clicar no tab que aparecem opções.\n",
    "#no caso acima, foi \"chamado\" a classe do Chrome\n",
    "\n",
    "driver.implicitly_wait(2)\n",
    "\n",
    "driver.get('https://www.transfermarkt.com.br/verein-statistik/zuschauerrangliste/statistik?wettbewerb=liga&sortierung=best&selectedOptionKey=0&plus=1')\n",
    "\n",
    "#dados_tabela = driver.find_elements(By.TAG_NAME, 'a')\n",
    "linhas_impares = driver.find_elements(By.CLASS_NAME, 'odd')\n",
    "dados = linhas_impares[0].text.split('\\n')\n",
    "#print(dados_tabela[1].text)\n",
    "\n",
    "#print(len(linhas_impares))\n",
    "\n",
    "#print(type(linhas_impares[0].text))\n",
    "#print(linhas_impares[0].text.split)\n",
    "\n",
    "#print(linhas_impares[0].text)\n",
    "\n",
    "#display(linhas_impares[0].text)\n",
    "\n",
    "print(dados[4].split())"
   ]
  },
  {
   "cell_type": "code",
   "execution_count": null,
   "id": "341bdce7-ef11-4f30-9f4c-18990afdd7ec",
   "metadata": {},
   "outputs": [],
   "source": []
  },
  {
   "cell_type": "code",
   "execution_count": null,
   "id": "634e87ad-d898-4746-950c-94fc517aebd7",
   "metadata": {},
   "outputs": [],
   "source": []
  }
 ],
 "metadata": {
  "kernelspec": {
   "display_name": "Python 3 (ipykernel)",
   "language": "python",
   "name": "python3"
  },
  "language_info": {
   "codemirror_mode": {
    "name": "ipython",
    "version": 3
   },
   "file_extension": ".py",
   "mimetype": "text/x-python",
   "name": "python",
   "nbconvert_exporter": "python",
   "pygments_lexer": "ipython3",
   "version": "3.12.4"
  }
 },
 "nbformat": 4,
 "nbformat_minor": 5
}
