{
 "cells": [
  {
   "cell_type": "code",
   "execution_count": 38,
   "id": "0ab09d29-9b41-4acd-ad92-1f15e8dd6086",
   "metadata": {},
   "outputs": [],
   "source": [
    "from selenium import webdriver\n",
    "from selenium.webdriver.common.by import By"
   ]
  },
  {
   "cell_type": "code",
   "execution_count": 49,
   "id": "aa51c5c5-eb01-4b51-823c-44d00537539c",
   "metadata": {
    "scrolled": true
   },
   "outputs": [
    {
     "name": "stdout",
     "output_type": "stream",
     "text": [
      "SENAI - Portal\n",
      "Cursos\n",
      "NOTÍCIAS\n"
     ]
    }
   ],
   "source": [
    "#Abrimos ma instancia do navegador google chrome\n",
    "driver = webdriver.Chrome()\n",
    "driver.implicitly_wait(2) #espera dois segundos\n",
    "\n",
    "#acessa a página que está dentro das aspas\n",
    "driver.get('https://www.sp.senai.br/')\n",
    "#driver.get('https://www.uol.com.br/')\n",
    "\n",
    "#titulo da pagina\n",
    "titulo = driver.title\n",
    "print(titulo)\n",
    "driver.implicitly_wait(2) \n",
    "\n",
    "tags_h1 = driver.find_elements(By.TAG_NAME, 'h2')\n",
    "print(tags_h1[0].text)\n",
    "print(tags_h1[1].text)\n"
   ]
  },
  {
   "cell_type": "code",
   "execution_count": null,
   "id": "636b8368-0be4-457f-8e79-6a41fd735065",
   "metadata": {},
   "outputs": [],
   "source": [
    "driver.quit() fechamos a instancia do navegador aberto"
   ]
  },
  {
   "cell_type": "code",
   "execution_count": 111,
   "id": "3a50b5eb-af6b-469f-aa91-48fa76a29d77",
   "metadata": {},
   "outputs": [
    {
     "name": "stdout",
     "output_type": "stream",
     "text": [
      "1\n",
      "Mark\n",
      "Jacob\n",
      "Larry\n",
      "Harry\n",
      "John\n",
      "Tim\n"
     ]
    }
   ],
   "source": [
    "driver = webdriver.Chrome()\n",
    "driver.get('https://webscraper.io/test-sites/tables')\n",
    "\n",
    "tags_h = driver.find_elements(By.TAG_NAME, 'td')\n",
    "\n",
    "print(tags_h[1].text)\n",
    "print(tags_h[5].text)\n",
    "print(tags_h[9].text)\n",
    "\n",
    "print(tags_h[13].text)\n",
    "print(tags_h[17].text)\n",
    "print(tags_h[21].text)\n",
    "\n"
   ]
  },
  {
   "cell_type": "code",
   "execution_count": 129,
   "id": "b94fb183-5638-4c61-b514-3bc1c2ae5268",
   "metadata": {},
   "outputs": [
    {
     "name": "stdout",
     "output_type": "stream",
     "text": [
      "1\n",
      "Mark\n",
      "Otto\n",
      "@mdo\n",
      "2\n",
      "Jacob\n",
      "Thornton\n",
      "@fat\n",
      "3\n",
      "Larry\n",
      "the Bird\n",
      "@twitter\n",
      "4\n",
      "Harry\n",
      "Potter\n",
      "@hp\n",
      "5\n",
      "John\n",
      "Snow\n",
      "@dunno\n",
      "6\n",
      "Tim\n",
      "Bean\n",
      "@timbean\n"
     ]
    }
   ],
   "source": [
    "for i in range(24): #o i usado como abreviação de index.\n",
    "    print(tags_h[i].text)"
   ]
  },
  {
   "cell_type": "code",
   "execution_count": 131,
   "id": "bebef8ac-91e9-4dc9-b3f6-9d29aaeb0d63",
   "metadata": {},
   "outputs": [
    {
     "name": "stdout",
     "output_type": "stream",
     "text": [
      "Mark\n",
      "Jacob\n",
      "Larry\n",
      "Harry\n",
      "John\n",
      "Tim\n"
     ]
    }
   ],
   "source": [
    "for index in range(1,24,4): #o 1 é a linha inicial para começar a apresentar o dado, o 24 é até onde vai e o 4 é a quantidade que deve \"pular\" as linhas.\n",
    "    print(tags_h[index].text)"
   ]
  },
  {
   "cell_type": "code",
   "execution_count": null,
   "id": "97f6cfd9-d3b3-444f-a0a8-f28caa1502fd",
   "metadata": {},
   "outputs": [],
   "source": []
  }
 ],
 "metadata": {
  "kernelspec": {
   "display_name": "Python 3 (ipykernel)",
   "language": "python",
   "name": "python3"
  },
  "language_info": {
   "codemirror_mode": {
    "name": "ipython",
    "version": 3
   },
   "file_extension": ".py",
   "mimetype": "text/x-python",
   "name": "python",
   "nbconvert_exporter": "python",
   "pygments_lexer": "ipython3",
   "version": "3.12.4"
  }
 },
 "nbformat": 4,
 "nbformat_minor": 5
}
