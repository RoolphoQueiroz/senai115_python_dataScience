{
 "cells": [
  {
   "cell_type": "code",
   "execution_count": 19,
   "id": "0a504ead-1ebe-4a0d-b826-67926d8f6bbf",
   "metadata": {},
   "outputs": [],
   "source": [
    "import pandas as pd"
   ]
  },
  {
   "cell_type": "code",
   "execution_count": 21,
   "id": "0ab09d29-9b41-4acd-ad92-1f15e8dd6086",
   "metadata": {},
   "outputs": [],
   "source": [
    "import matplotlib.pyplot as plt"
   ]
  },
  {
   "cell_type": "code",
   "execution_count": 29,
   "id": "aa51c5c5-eb01-4b51-823c-44d00537539c",
   "metadata": {
    "scrolled": true
   },
   "outputs": [],
   "source": [
    "df = pd.read_csv('../dataset/IEA Global EV Data 2024.csv')"
   ]
  },
  {
   "cell_type": "code",
   "execution_count": 31,
   "id": "6e1bf173-1418-4491-82b9-5821ba462867",
   "metadata": {},
   "outputs": [
    {
     "data": {
      "text/html": [
       "<div>\n",
       "<style scoped>\n",
       "    .dataframe tbody tr th:only-of-type {\n",
       "        vertical-align: middle;\n",
       "    }\n",
       "\n",
       "    .dataframe tbody tr th {\n",
       "        vertical-align: top;\n",
       "    }\n",
       "\n",
       "    .dataframe thead th {\n",
       "        text-align: right;\n",
       "    }\n",
       "</style>\n",
       "<table border=\"1\" class=\"dataframe\">\n",
       "  <thead>\n",
       "    <tr style=\"text-align: right;\">\n",
       "      <th></th>\n",
       "      <th>region</th>\n",
       "      <th>category</th>\n",
       "      <th>parameter</th>\n",
       "      <th>mode</th>\n",
       "      <th>powertrain</th>\n",
       "      <th>year</th>\n",
       "      <th>unit</th>\n",
       "      <th>value</th>\n",
       "    </tr>\n",
       "  </thead>\n",
       "  <tbody>\n",
       "    <tr>\n",
       "      <th>0</th>\n",
       "      <td>Australia</td>\n",
       "      <td>Historical</td>\n",
       "      <td>EV stock share</td>\n",
       "      <td>Cars</td>\n",
       "      <td>EV</td>\n",
       "      <td>2011</td>\n",
       "      <td>percent</td>\n",
       "      <td>0.00039</td>\n",
       "    </tr>\n",
       "    <tr>\n",
       "      <th>1</th>\n",
       "      <td>Australia</td>\n",
       "      <td>Historical</td>\n",
       "      <td>EV sales share</td>\n",
       "      <td>Cars</td>\n",
       "      <td>EV</td>\n",
       "      <td>2011</td>\n",
       "      <td>percent</td>\n",
       "      <td>0.00650</td>\n",
       "    </tr>\n",
       "    <tr>\n",
       "      <th>2</th>\n",
       "      <td>Australia</td>\n",
       "      <td>Historical</td>\n",
       "      <td>EV sales</td>\n",
       "      <td>Cars</td>\n",
       "      <td>BEV</td>\n",
       "      <td>2011</td>\n",
       "      <td>Vehicles</td>\n",
       "      <td>49.00000</td>\n",
       "    </tr>\n",
       "    <tr>\n",
       "      <th>3</th>\n",
       "      <td>Australia</td>\n",
       "      <td>Historical</td>\n",
       "      <td>EV stock</td>\n",
       "      <td>Cars</td>\n",
       "      <td>BEV</td>\n",
       "      <td>2011</td>\n",
       "      <td>Vehicles</td>\n",
       "      <td>49.00000</td>\n",
       "    </tr>\n",
       "    <tr>\n",
       "      <th>4</th>\n",
       "      <td>Australia</td>\n",
       "      <td>Historical</td>\n",
       "      <td>EV stock</td>\n",
       "      <td>Cars</td>\n",
       "      <td>BEV</td>\n",
       "      <td>2012</td>\n",
       "      <td>Vehicles</td>\n",
       "      <td>220.00000</td>\n",
       "    </tr>\n",
       "  </tbody>\n",
       "</table>\n",
       "</div>"
      ],
      "text/plain": [
       "      region    category       parameter  mode powertrain  year      unit  \\\n",
       "0  Australia  Historical  EV stock share  Cars         EV  2011   percent   \n",
       "1  Australia  Historical  EV sales share  Cars         EV  2011   percent   \n",
       "2  Australia  Historical        EV sales  Cars        BEV  2011  Vehicles   \n",
       "3  Australia  Historical        EV stock  Cars        BEV  2011  Vehicles   \n",
       "4  Australia  Historical        EV stock  Cars        BEV  2012  Vehicles   \n",
       "\n",
       "       value  \n",
       "0    0.00039  \n",
       "1    0.00650  \n",
       "2   49.00000  \n",
       "3   49.00000  \n",
       "4  220.00000  "
      ]
     },
     "execution_count": 31,
     "metadata": {},
     "output_type": "execute_result"
    }
   ],
   "source": [
    "df.head()"
   ]
  },
  {
   "cell_type": "code",
   "execution_count": 33,
   "id": "cabccb79-0cae-4741-8d6b-78d0f4d0e64b",
   "metadata": {},
   "outputs": [
    {
     "name": "stdout",
     "output_type": "stream",
     "text": [
      "<class 'pandas.core.frame.DataFrame'>\n",
      "RangeIndex: 12654 entries, 0 to 12653\n",
      "Data columns (total 8 columns):\n",
      " #   Column      Non-Null Count  Dtype  \n",
      "---  ------      --------------  -----  \n",
      " 0   region      12654 non-null  object \n",
      " 1   category    12654 non-null  object \n",
      " 2   parameter   12654 non-null  object \n",
      " 3   mode        12654 non-null  object \n",
      " 4   powertrain  12654 non-null  object \n",
      " 5   year        12654 non-null  int64  \n",
      " 6   unit        12654 non-null  object \n",
      " 7   value       12654 non-null  float64\n",
      "dtypes: float64(1), int64(1), object(6)\n",
      "memory usage: 791.0+ KB\n"
     ]
    },
    {
     "data": {
      "text/html": [
       "<div>\n",
       "<style scoped>\n",
       "    .dataframe tbody tr th:only-of-type {\n",
       "        vertical-align: middle;\n",
       "    }\n",
       "\n",
       "    .dataframe tbody tr th {\n",
       "        vertical-align: top;\n",
       "    }\n",
       "\n",
       "    .dataframe thead th {\n",
       "        text-align: right;\n",
       "    }\n",
       "</style>\n",
       "<table border=\"1\" class=\"dataframe\">\n",
       "  <thead>\n",
       "    <tr style=\"text-align: right;\">\n",
       "      <th></th>\n",
       "      <th>year</th>\n",
       "      <th>value</th>\n",
       "    </tr>\n",
       "  </thead>\n",
       "  <tbody>\n",
       "    <tr>\n",
       "      <th>count</th>\n",
       "      <td>12654.000000</td>\n",
       "      <td>1.265400e+04</td>\n",
       "    </tr>\n",
       "    <tr>\n",
       "      <th>mean</th>\n",
       "      <td>2019.822112</td>\n",
       "      <td>4.273742e+05</td>\n",
       "    </tr>\n",
       "    <tr>\n",
       "      <th>std</th>\n",
       "      <td>5.476494</td>\n",
       "      <td>6.860498e+06</td>\n",
       "    </tr>\n",
       "    <tr>\n",
       "      <th>min</th>\n",
       "      <td>2010.000000</td>\n",
       "      <td>1.200000e-06</td>\n",
       "    </tr>\n",
       "    <tr>\n",
       "      <th>25%</th>\n",
       "      <td>2016.000000</td>\n",
       "      <td>2.000000e+00</td>\n",
       "    </tr>\n",
       "    <tr>\n",
       "      <th>50%</th>\n",
       "      <td>2020.000000</td>\n",
       "      <td>1.300000e+02</td>\n",
       "    </tr>\n",
       "    <tr>\n",
       "      <th>75%</th>\n",
       "      <td>2022.000000</td>\n",
       "      <td>5.500000e+03</td>\n",
       "    </tr>\n",
       "    <tr>\n",
       "      <th>max</th>\n",
       "      <td>2035.000000</td>\n",
       "      <td>4.400000e+08</td>\n",
       "    </tr>\n",
       "  </tbody>\n",
       "</table>\n",
       "</div>"
      ],
      "text/plain": [
       "               year         value\n",
       "count  12654.000000  1.265400e+04\n",
       "mean    2019.822112  4.273742e+05\n",
       "std        5.476494  6.860498e+06\n",
       "min     2010.000000  1.200000e-06\n",
       "25%     2016.000000  2.000000e+00\n",
       "50%     2020.000000  1.300000e+02\n",
       "75%     2022.000000  5.500000e+03\n",
       "max     2035.000000  4.400000e+08"
      ]
     },
     "execution_count": 33,
     "metadata": {},
     "output_type": "execute_result"
    }
   ],
   "source": [
    "#informações gerais\n",
    "df.info()\n",
    "df.describe()"
   ]
  },
  {
   "cell_type": "code",
   "execution_count": 35,
   "id": "6b67d24c-1bfb-4a10-9d46-c4f57d462aa1",
   "metadata": {},
   "outputs": [
    {
     "data": {
      "text/plain": [
       "0"
      ]
     },
     "execution_count": 35,
     "metadata": {},
     "output_type": "execute_result"
    }
   ],
   "source": [
    "#verificar valores duplicados\n",
    "df.duplicated().sum() #caso aparecer o 0, significa que não tem linhas iguais"
   ]
  },
  {
   "cell_type": "code",
   "execution_count": 37,
   "id": "f045b16e-51c2-4cec-90c4-ecf1852f044b",
   "metadata": {},
   "outputs": [
    {
     "data": {
      "text/plain": [
       "region        0\n",
       "category      0\n",
       "parameter     0\n",
       "mode          0\n",
       "powertrain    0\n",
       "year          0\n",
       "unit          0\n",
       "value         0\n",
       "dtype: int64"
      ]
     },
     "execution_count": 37,
     "metadata": {},
     "output_type": "execute_result"
    }
   ],
   "source": [
    "#verificar valores vazios por coluna\n",
    "df.isnull().sum()"
   ]
  },
  {
   "cell_type": "code",
   "execution_count": 39,
   "id": "be75ab7e-0eec-45db-b0ac-752fc880e177",
   "metadata": {},
   "outputs": [
    {
     "data": {
      "text/plain": [
       "array(['Cars', 'EV', 'Buses', 'Vans', 'Trucks'], dtype=object)"
      ]
     },
     "execution_count": 39,
     "metadata": {},
     "output_type": "execute_result"
    }
   ],
   "source": [
    "df['mode'].unique() #o campo mode nesse caso, faz mudar a sintaxe, pois o nome mode já é algo do Python (uma palavra reservada) então tem que mudar a forma de escrever."
   ]
  },
  {
   "cell_type": "code",
   "execution_count": 41,
   "id": "c39ede8b-06df-4b18-879c-ed30e754090b",
   "metadata": {},
   "outputs": [
    {
     "data": {
      "text/plain": [
       "array(['percent', 'Vehicles', 'charging points', 'GWh',\n",
       "       'Milion barrels per day', 'Oil displacement, million lge'],\n",
       "      dtype=object)"
      ]
     },
     "execution_count": 41,
     "metadata": {},
     "output_type": "execute_result"
    }
   ],
   "source": [
    "df.unit.unique() #mesma \"função\" do código acima, mas pode ser direto com o campo chamado unit (coluna que possui unidades diferentes)"
   ]
  },
  {
   "cell_type": "code",
   "execution_count": 43,
   "id": "0a6b71d1-3215-44c0-8d9c-2be978a72746",
   "metadata": {},
   "outputs": [],
   "source": [
    "df_vehicles = df.loc[df['unit'] == 'Vehicles']"
   ]
  },
  {
   "cell_type": "code",
   "execution_count": 45,
   "id": "2a28695f-3f9a-438b-8bf5-f6931b629ef5",
   "metadata": {},
   "outputs": [
    {
     "data": {
      "text/html": [
       "<div>\n",
       "<style scoped>\n",
       "    .dataframe tbody tr th:only-of-type {\n",
       "        vertical-align: middle;\n",
       "    }\n",
       "\n",
       "    .dataframe tbody tr th {\n",
       "        vertical-align: top;\n",
       "    }\n",
       "\n",
       "    .dataframe thead th {\n",
       "        text-align: right;\n",
       "    }\n",
       "</style>\n",
       "<table border=\"1\" class=\"dataframe\">\n",
       "  <thead>\n",
       "    <tr style=\"text-align: right;\">\n",
       "      <th></th>\n",
       "      <th>region</th>\n",
       "      <th>category</th>\n",
       "      <th>parameter</th>\n",
       "      <th>mode</th>\n",
       "      <th>powertrain</th>\n",
       "      <th>year</th>\n",
       "      <th>unit</th>\n",
       "      <th>value</th>\n",
       "    </tr>\n",
       "  </thead>\n",
       "  <tbody>\n",
       "    <tr>\n",
       "      <th>2</th>\n",
       "      <td>Australia</td>\n",
       "      <td>Historical</td>\n",
       "      <td>EV sales</td>\n",
       "      <td>Cars</td>\n",
       "      <td>BEV</td>\n",
       "      <td>2011</td>\n",
       "      <td>Vehicles</td>\n",
       "      <td>49.0</td>\n",
       "    </tr>\n",
       "    <tr>\n",
       "      <th>3</th>\n",
       "      <td>Australia</td>\n",
       "      <td>Historical</td>\n",
       "      <td>EV stock</td>\n",
       "      <td>Cars</td>\n",
       "      <td>BEV</td>\n",
       "      <td>2011</td>\n",
       "      <td>Vehicles</td>\n",
       "      <td>49.0</td>\n",
       "    </tr>\n",
       "    <tr>\n",
       "      <th>4</th>\n",
       "      <td>Australia</td>\n",
       "      <td>Historical</td>\n",
       "      <td>EV stock</td>\n",
       "      <td>Cars</td>\n",
       "      <td>BEV</td>\n",
       "      <td>2012</td>\n",
       "      <td>Vehicles</td>\n",
       "      <td>220.0</td>\n",
       "    </tr>\n",
       "    <tr>\n",
       "      <th>5</th>\n",
       "      <td>Australia</td>\n",
       "      <td>Historical</td>\n",
       "      <td>EV sales</td>\n",
       "      <td>Cars</td>\n",
       "      <td>BEV</td>\n",
       "      <td>2012</td>\n",
       "      <td>Vehicles</td>\n",
       "      <td>170.0</td>\n",
       "    </tr>\n",
       "    <tr>\n",
       "      <th>8</th>\n",
       "      <td>Australia</td>\n",
       "      <td>Historical</td>\n",
       "      <td>EV stock</td>\n",
       "      <td>Cars</td>\n",
       "      <td>PHEV</td>\n",
       "      <td>2012</td>\n",
       "      <td>Vehicles</td>\n",
       "      <td>80.0</td>\n",
       "    </tr>\n",
       "  </tbody>\n",
       "</table>\n",
       "</div>"
      ],
      "text/plain": [
       "      region    category parameter  mode powertrain  year      unit  value\n",
       "2  Australia  Historical  EV sales  Cars        BEV  2011  Vehicles   49.0\n",
       "3  Australia  Historical  EV stock  Cars        BEV  2011  Vehicles   49.0\n",
       "4  Australia  Historical  EV stock  Cars        BEV  2012  Vehicles  220.0\n",
       "5  Australia  Historical  EV sales  Cars        BEV  2012  Vehicles  170.0\n",
       "8  Australia  Historical  EV stock  Cars       PHEV  2012  Vehicles   80.0"
      ]
     },
     "execution_count": 45,
     "metadata": {},
     "output_type": "execute_result"
    }
   ],
   "source": [
    "df_vehicles.head()"
   ]
  },
  {
   "cell_type": "code",
   "execution_count": 47,
   "id": "cd405a6a-d03b-4128-9c7a-3a7033f68a49",
   "metadata": {},
   "outputs": [
    {
     "data": {
      "text/plain": [
       "array(['Vehicles'], dtype=object)"
      ]
     },
     "execution_count": 47,
     "metadata": {},
     "output_type": "execute_result"
    }
   ],
   "source": [
    "df_vehicles['unit'].unique()"
   ]
  },
  {
   "cell_type": "code",
   "execution_count": 49,
   "id": "7e3c67c6-a93f-4c4b-b5e4-6f16bceaccc2",
   "metadata": {},
   "outputs": [
    {
     "data": {
      "text/plain": [
       "mode\n",
       "Cars      2975\n",
       "Buses     1485\n",
       "Vans      1449\n",
       "Trucks     933\n",
       "Name: count, dtype: int64"
      ]
     },
     "execution_count": 49,
     "metadata": {},
     "output_type": "execute_result"
    }
   ],
   "source": [
    "df_vehicles['mode'].value_counts()"
   ]
  },
  {
   "cell_type": "code",
   "execution_count": 41,
   "id": "761d65d8-9f89-43be-bf3f-1b9e28a7a3bf",
   "metadata": {},
   "outputs": [
    {
     "data": {
      "text/plain": [
       "([<matplotlib.patches.Wedge at 0x1d2540573b0>,\n",
       "  <matplotlib.patches.Wedge at 0x1d252df0620>,\n",
       "  <matplotlib.patches.Wedge at 0x1d254057b90>,\n",
       "  <matplotlib.patches.Wedge at 0x1d25404a450>],\n",
       " [Text(0.2236940701869681, 1.0770148387850504, 'Cars'),\n",
       "  Text(-1.059475175108288, -0.29582486935560853, 'Buses'),\n",
       "  Text(0.05351735479744666, -1.0986973617586802, 'Vans'),\n",
       "  Text(1.0005952318392295, -0.45695643339447445, 'Trucks')],\n",
       " [Text(0.12201494737470986, 0.5874626393373001, '43.5%'),\n",
       "  Text(-0.5778955500590661, -0.1613590196485137, '21.7%'),\n",
       "  Text(0.0291912844349709, -0.5992894700501892, '21.2%'),\n",
       "  Text(0.5457792173668524, -0.2492489636697133, '13.6%')])"
      ]
     },
     "execution_count": 41,
     "metadata": {},
     "output_type": "execute_result"
    },
    {
     "data": {
      "image/png": "[encoded data removed]",
      "text/plain": [
       "<Figure size 640x480 with 1 Axes>"
      ]
     },
     "metadata": {},
     "output_type": "display_data"
    }
   ],
   "source": [
    "labels = df_vehicles['mode'].unique()\n",
    "contagem = df_vehicles['mode'].value_counts() #é melhor (mais seguro) colocar o nome da coluna sempre entre [colchetes], para não dar problema, pois mode já existe no python.\n",
    "\n",
    "plt.pie(contagem, labels = labels, autopct='%1.1f%%')\n",
    "#plt.show()"
   ]
  },
  {
   "cell_type": "code",
   "execution_count": 51,
   "id": "d2cb3437-0b7d-4255-9890-4cba69a3c644",
   "metadata": {},
   "outputs": [
    {
     "data": {
      "text/plain": [
       "dtype('float64')"
      ]
     },
     "execution_count": 51,
     "metadata": {},
     "output_type": "execute_result"
    }
   ],
   "source": [
    "df_vehicles['value'].dtype"
   ]
  },
  {
   "cell_type": "code",
   "execution_count": 49,
   "id": "d918f980-8de7-42d2-b35f-7fd51d57eeb8",
   "metadata": {},
   "outputs": [
    {
     "data": {
      "text/plain": [
       "region\n",
       "Australia               5.788320e+05\n",
       "Austria                 8.719660e+05\n",
       "Belgium                 1.687010e+06\n",
       "Brazil                  2.649470e+05\n",
       "Bulgaria                4.623000e+03\n",
       "Canada                  2.416440e+06\n",
       "Chile                   1.445800e+04\n",
       "China                   1.148052e+09\n",
       "Colombia                1.602300e+04\n",
       "Costa Rica              2.763100e+04\n",
       "Croatia                 7.557000e+03\n",
       "Cyprus                  2.260000e+03\n",
       "Czech Republic          3.430000e+04\n",
       "Denmark                 1.102561e+06\n",
       "EU27                    3.324256e+07\n",
       "Estonia                 4.585000e+03\n",
       "Europe                  5.937754e+08\n",
       "Finland                 7.427230e+05\n",
       "France                  6.787772e+06\n",
       "Germany                 1.020111e+07\n",
       "Greece                  1.053560e+05\n",
       "Hungary                 4.203500e+04\n",
       "Iceland                 1.897660e+05\n",
       "India                   6.341878e+07\n",
       "Ireland                 8.857000e+04\n",
       "Israel                  4.821870e+05\n",
       "Italy                   1.860044e+06\n",
       "Japan                   3.603756e+06\n",
       "Korea                   2.516838e+06\n",
       "Latvia                  4.687000e+03\n",
       "Lithuania               6.673000e+03\n",
       "Luxembourg              4.210000e+04\n",
       "Mexico                  1.425910e+05\n",
       "Netherlands             3.488004e+06\n",
       "New Zealand             3.714620e+05\n",
       "Norway                  4.793634e+06\n",
       "Poland                  3.432870e+05\n",
       "Portugal                6.749960e+05\n",
       "Rest of the world       3.089968e+08\n",
       "Romania                 3.948800e+04\n",
       "Seychelles              3.380000e+02\n",
       "Slovakia                1.335100e+04\n",
       "Slovenia                1.336300e+04\n",
       "South Africa            1.653300e+04\n",
       "Spain                   1.403419e+06\n",
       "Sweden                  2.509214e+06\n",
       "Switzerland             1.165185e+06\n",
       "Turkiye                 1.983380e+05\n",
       "USA                     4.112801e+08\n",
       "United Arab Emirates    5.280400e+04\n",
       "United Kingdom          6.283637e+06\n",
       "World                   2.520120e+09\n",
       "Name: value, dtype: float64"
      ]
     },
     "execution_count": 49,
     "metadata": {},
     "output_type": "execute_result"
    }
   ],
   "source": [
    "df_vehicles.groupby('region')['value'].sum()"
   ]
  },
  {
   "cell_type": "code",
   "execution_count": 53,
   "id": "71c6d851-7a5a-45f3-ac2c-bec0a9900fef",
   "metadata": {},
   "outputs": [
    {
     "data": {
      "text/plain": [
       "region\n",
       "Australia               5.788320e+05\n",
       "Austria                 8.719660e+05\n",
       "Belgium                 1.687010e+06\n",
       "Brazil                  2.649470e+05\n",
       "Bulgaria                4.623000e+03\n",
       "Canada                  2.416440e+06\n",
       "Chile                   1.445800e+04\n",
       "China                   1.148052e+09\n",
       "Colombia                1.602300e+04\n",
       "Costa Rica              2.763100e+04\n",
       "Croatia                 7.557000e+03\n",
       "Cyprus                  2.260000e+03\n",
       "Czech Republic          3.430000e+04\n",
       "Denmark                 1.102561e+06\n",
       "EU27                    3.324256e+07\n",
       "Estonia                 4.585000e+03\n",
       "Europe                  5.937754e+08\n",
       "Finland                 7.427230e+05\n",
       "France                  6.787772e+06\n",
       "Germany                 1.020111e+07\n",
       "Greece                  1.053560e+05\n",
       "Hungary                 4.203500e+04\n",
       "Iceland                 1.897660e+05\n",
       "India                   6.341878e+07\n",
       "Ireland                 8.857000e+04\n",
       "Israel                  4.821870e+05\n",
       "Italy                   1.860044e+06\n",
       "Japan                   3.603756e+06\n",
       "Korea                   2.516838e+06\n",
       "Latvia                  4.687000e+03\n",
       "Lithuania               6.673000e+03\n",
       "Luxembourg              4.210000e+04\n",
       "Mexico                  1.425910e+05\n",
       "Netherlands             3.488004e+06\n",
       "New Zealand             3.714620e+05\n",
       "Norway                  4.793634e+06\n",
       "Poland                  3.432870e+05\n",
       "Portugal                6.749960e+05\n",
       "Rest of the world       3.089968e+08\n",
       "Romania                 3.948800e+04\n",
       "Seychelles              3.380000e+02\n",
       "Slovakia                1.335100e+04\n",
       "Slovenia                1.336300e+04\n",
       "South Africa            1.653300e+04\n",
       "Spain                   1.403419e+06\n",
       "Sweden                  2.509214e+06\n",
       "Switzerland             1.165185e+06\n",
       "Turkiye                 1.983380e+05\n",
       "USA                     4.112801e+08\n",
       "United Arab Emirates    5.280400e+04\n",
       "United Kingdom          6.283637e+06\n",
       "World                   2.520120e+09\n",
       "Name: value, dtype: float64"
      ]
     },
     "execution_count": 53,
     "metadata": {},
     "output_type": "execute_result"
    }
   ],
   "source": [
    "df_vehicles.groupby('region')['value'].sum()"
   ]
  },
  {
   "cell_type": "code",
   "execution_count": 55,
   "id": "3db7eb04-b2c0-4058-8221-bddebab0613a",
   "metadata": {},
   "outputs": [
    {
     "data": {
      "text/plain": [
       "region\n",
       "Australia               5.788320e+05\n",
       "Austria                 8.719660e+05\n",
       "Belgium                 1.687010e+06\n",
       "Brazil                  2.649470e+05\n",
       "Bulgaria                4.623000e+03\n",
       "Canada                  2.416440e+06\n",
       "Chile                   1.445800e+04\n",
       "China                   1.148052e+09\n",
       "Colombia                1.602300e+04\n",
       "Costa Rica              2.763100e+04\n",
       "Croatia                 7.557000e+03\n",
       "Cyprus                  2.260000e+03\n",
       "Czech Republic          3.430000e+04\n",
       "Denmark                 1.102561e+06\n",
       "EU27                    3.324256e+07\n",
       "Estonia                 4.585000e+03\n",
       "Europe                  5.937754e+08\n",
       "Finland                 7.427230e+05\n",
       "France                  6.787772e+06\n",
       "Germany                 1.020111e+07\n",
       "Greece                  1.053560e+05\n",
       "Hungary                 4.203500e+04\n",
       "Iceland                 1.897660e+05\n",
       "India                   6.341878e+07\n",
       "Ireland                 8.857000e+04\n",
       "Israel                  4.821870e+05\n",
       "Italy                   1.860044e+06\n",
       "Japan                   3.603756e+06\n",
       "Korea                   2.516838e+06\n",
       "Latvia                  4.687000e+03\n",
       "Lithuania               6.673000e+03\n",
       "Luxembourg              4.210000e+04\n",
       "Mexico                  1.425910e+05\n",
       "Netherlands             3.488004e+06\n",
       "New Zealand             3.714620e+05\n",
       "Norway                  4.793634e+06\n",
       "Poland                  3.432870e+05\n",
       "Portugal                6.749960e+05\n",
       "Rest of the world       3.089968e+08\n",
       "Romania                 3.948800e+04\n",
       "Seychelles              3.380000e+02\n",
       "Slovakia                1.335100e+04\n",
       "Slovenia                1.336300e+04\n",
       "South Africa            1.653300e+04\n",
       "Spain                   1.403419e+06\n",
       "Sweden                  2.509214e+06\n",
       "Switzerland             1.165185e+06\n",
       "Turkiye                 1.983380e+05\n",
       "USA                     4.112801e+08\n",
       "United Arab Emirates    5.280400e+04\n",
       "United Kingdom          6.283637e+06\n",
       "World                   2.520120e+09\n",
       "Name: value, dtype: float64"
      ]
     },
     "execution_count": 55,
     "metadata": {},
     "output_type": "execute_result"
    }
   ],
   "source": [
    "df_vehicles.groupby('region')['value'].sum()"
   ]
  },
  {
   "cell_type": "code",
   "execution_count": 67,
   "id": "b8361265-9994-4ef1-be83-c3762ef19e9f",
   "metadata": {},
   "outputs": [
    {
     "data": {
      "text/plain": [
       "Index(['Australia', 'Austria', 'Belgium', 'Brazil', 'Bulgaria', 'Canada',\n",
       "       'Chile', 'China', 'Colombia', 'Costa Rica', 'Croatia', 'Cyprus',\n",
       "       'Czech Republic', 'Denmark', 'EU27', 'Estonia', 'Europe', 'Finland',\n",
       "       'France', 'Germany', 'Greece', 'Hungary', 'Iceland', 'India', 'Ireland',\n",
       "       'Israel', 'Italy', 'Japan', 'Korea', 'Latvia', 'Lithuania',\n",
       "       'Luxembourg', 'Mexico', 'Netherlands', 'New Zealand', 'Norway',\n",
       "       'Poland', 'Portugal', 'Rest of the world', 'Romania', 'Seychelles',\n",
       "       'Slovakia', 'Slovenia', 'South Africa', 'Spain', 'Sweden',\n",
       "       'Switzerland', 'Turkiye', 'USA', 'United Arab Emirates',\n",
       "       'United Kingdom', 'World'],\n",
       "      dtype='object', name='region')"
      ]
     },
     "execution_count": 67,
     "metadata": {},
     "output_type": "execute_result"
    }
   ],
   "source": [
    "dictionary_vehicles = df_vehicles.groupby('region')['value'].sum()\n",
    "dictionary_vehicles.keys() # .keys() é um metodo especifico para dicionarios"
   ]
  },
  {
   "cell_type": "code",
   "execution_count": 69,
   "id": "14ce6f5c-852f-4243-a003-b3229f59e278",
   "metadata": {},
   "outputs": [
    {
     "data": {
      "text/plain": [
       "578832.0"
      ]
     },
     "execution_count": 69,
     "metadata": {},
     "output_type": "execute_result"
    }
   ],
   "source": [
    "dictionary_vehicles.Australia"
   ]
  },
  {
   "cell_type": "code",
   "execution_count": 85,
   "id": "47c60e0d-faa9-48a3-b171-3ded5efb32a3",
   "metadata": {},
   "outputs": [
    {
     "data": {
      "text/plain": [
       "[338.0,\n",
       " 2260.0,\n",
       " 4585.0,\n",
       " 4623.0,\n",
       " 4687.0,\n",
       " 6673.0,\n",
       " 7557.0,\n",
       " 13351.0,\n",
       " 13363.0,\n",
       " 14458.0,\n",
       " 16023.0,\n",
       " 16533.0,\n",
       " 27631.0,\n",
       " 34300.0,\n",
       " 39488.0,\n",
       " 42035.0,\n",
       " 42100.0,\n",
       " 52804.0,\n",
       " 88570.0,\n",
       " 105356.0,\n",
       " 142591.0,\n",
       " 189766.0,\n",
       " 198338.0,\n",
       " 264947.0,\n",
       " 343287.0,\n",
       " 371462.0,\n",
       " 482187.00100000005,\n",
       " 578832.0,\n",
       " 674996.0,\n",
       " 742723.0,\n",
       " 871966.0,\n",
       " 1102561.0,\n",
       " 1165185.0,\n",
       " 1403419.0,\n",
       " 1687010.0,\n",
       " 1860044.0,\n",
       " 2416439.8000001907,\n",
       " 2509214.0,\n",
       " 2516838.0,\n",
       " 3488004.4000000954,\n",
       " 3603756.0,\n",
       " 4793634.0,\n",
       " 6283637.0,\n",
       " 6787772.0,\n",
       " 10201107.0,\n",
       " 33242559.0,\n",
       " 63418776.400000095,\n",
       " 308996799.9000001,\n",
       " 411280117.1999998,\n",
       " 593775414.0,\n",
       " 1148051600.0,\n",
       " 2520120081.0]"
      ]
     },
     "execution_count": 85,
     "metadata": {},
     "output_type": "execute_result"
    }
   ],
   "source": [
    "sorted(dictionary_vehicles)"
   ]
  },
  {
   "cell_type": "code",
   "execution_count": 59,
   "id": "4c7ea73f-d7f5-4c76-bd7d-3959aa6c688f",
   "metadata": {},
   "outputs": [],
   "source": [
    "df_vehicles_region = pd.DataFrame(dictionary_vehicles.items(), columns=['Regions','Value'])"
   ]
  },
  {
   "cell_type": "code",
   "execution_count": 123,
   "id": "2b6f8c5b-4c1c-4e51-8278-527423e23ae7",
   "metadata": {},
   "outputs": [
    {
     "data": {
      "text/html": [
       "<div>\n",
       "<style scoped>\n",
       "    .dataframe tbody tr th:only-of-type {\n",
       "        vertical-align: middle;\n",
       "    }\n",
       "\n",
       "    .dataframe tbody tr th {\n",
       "        vertical-align: top;\n",
       "    }\n",
       "\n",
       "    .dataframe thead th {\n",
       "        text-align: right;\n",
       "    }\n",
       "</style>\n",
       "<table border=\"1\" class=\"dataframe\">\n",
       "  <thead>\n",
       "    <tr style=\"text-align: right;\">\n",
       "      <th></th>\n",
       "      <th>Regions</th>\n",
       "      <th>Value</th>\n",
       "    </tr>\n",
       "  </thead>\n",
       "  <tbody>\n",
       "    <tr>\n",
       "      <th>40</th>\n",
       "      <td>Seychelles</td>\n",
       "      <td>3.380000e+02</td>\n",
       "    </tr>\n",
       "    <tr>\n",
       "      <th>11</th>\n",
       "      <td>Cyprus</td>\n",
       "      <td>2.260000e+03</td>\n",
       "    </tr>\n",
       "    <tr>\n",
       "      <th>15</th>\n",
       "      <td>Estonia</td>\n",
       "      <td>4.585000e+03</td>\n",
       "    </tr>\n",
       "    <tr>\n",
       "      <th>4</th>\n",
       "      <td>Bulgaria</td>\n",
       "      <td>4.623000e+03</td>\n",
       "    </tr>\n",
       "    <tr>\n",
       "      <th>29</th>\n",
       "      <td>Latvia</td>\n",
       "      <td>4.687000e+03</td>\n",
       "    </tr>\n",
       "    <tr>\n",
       "      <th>30</th>\n",
       "      <td>Lithuania</td>\n",
       "      <td>6.673000e+03</td>\n",
       "    </tr>\n",
       "    <tr>\n",
       "      <th>10</th>\n",
       "      <td>Croatia</td>\n",
       "      <td>7.557000e+03</td>\n",
       "    </tr>\n",
       "    <tr>\n",
       "      <th>41</th>\n",
       "      <td>Slovakia</td>\n",
       "      <td>1.335100e+04</td>\n",
       "    </tr>\n",
       "    <tr>\n",
       "      <th>42</th>\n",
       "      <td>Slovenia</td>\n",
       "      <td>1.336300e+04</td>\n",
       "    </tr>\n",
       "    <tr>\n",
       "      <th>6</th>\n",
       "      <td>Chile</td>\n",
       "      <td>1.445800e+04</td>\n",
       "    </tr>\n",
       "    <tr>\n",
       "      <th>8</th>\n",
       "      <td>Colombia</td>\n",
       "      <td>1.602300e+04</td>\n",
       "    </tr>\n",
       "    <tr>\n",
       "      <th>43</th>\n",
       "      <td>South Africa</td>\n",
       "      <td>1.653300e+04</td>\n",
       "    </tr>\n",
       "    <tr>\n",
       "      <th>9</th>\n",
       "      <td>Costa Rica</td>\n",
       "      <td>2.763100e+04</td>\n",
       "    </tr>\n",
       "    <tr>\n",
       "      <th>12</th>\n",
       "      <td>Czech Republic</td>\n",
       "      <td>3.430000e+04</td>\n",
       "    </tr>\n",
       "    <tr>\n",
       "      <th>39</th>\n",
       "      <td>Romania</td>\n",
       "      <td>3.948800e+04</td>\n",
       "    </tr>\n",
       "    <tr>\n",
       "      <th>21</th>\n",
       "      <td>Hungary</td>\n",
       "      <td>4.203500e+04</td>\n",
       "    </tr>\n",
       "    <tr>\n",
       "      <th>31</th>\n",
       "      <td>Luxembourg</td>\n",
       "      <td>4.210000e+04</td>\n",
       "    </tr>\n",
       "    <tr>\n",
       "      <th>49</th>\n",
       "      <td>United Arab Emirates</td>\n",
       "      <td>5.280400e+04</td>\n",
       "    </tr>\n",
       "    <tr>\n",
       "      <th>24</th>\n",
       "      <td>Ireland</td>\n",
       "      <td>8.857000e+04</td>\n",
       "    </tr>\n",
       "    <tr>\n",
       "      <th>20</th>\n",
       "      <td>Greece</td>\n",
       "      <td>1.053560e+05</td>\n",
       "    </tr>\n",
       "    <tr>\n",
       "      <th>32</th>\n",
       "      <td>Mexico</td>\n",
       "      <td>1.425910e+05</td>\n",
       "    </tr>\n",
       "    <tr>\n",
       "      <th>22</th>\n",
       "      <td>Iceland</td>\n",
       "      <td>1.897660e+05</td>\n",
       "    </tr>\n",
       "    <tr>\n",
       "      <th>47</th>\n",
       "      <td>Turkiye</td>\n",
       "      <td>1.983380e+05</td>\n",
       "    </tr>\n",
       "    <tr>\n",
       "      <th>3</th>\n",
       "      <td>Brazil</td>\n",
       "      <td>2.649470e+05</td>\n",
       "    </tr>\n",
       "    <tr>\n",
       "      <th>36</th>\n",
       "      <td>Poland</td>\n",
       "      <td>3.432870e+05</td>\n",
       "    </tr>\n",
       "    <tr>\n",
       "      <th>34</th>\n",
       "      <td>New Zealand</td>\n",
       "      <td>3.714620e+05</td>\n",
       "    </tr>\n",
       "    <tr>\n",
       "      <th>25</th>\n",
       "      <td>Israel</td>\n",
       "      <td>4.821870e+05</td>\n",
       "    </tr>\n",
       "    <tr>\n",
       "      <th>0</th>\n",
       "      <td>Australia</td>\n",
       "      <td>5.788320e+05</td>\n",
       "    </tr>\n",
       "    <tr>\n",
       "      <th>37</th>\n",
       "      <td>Portugal</td>\n",
       "      <td>6.749960e+05</td>\n",
       "    </tr>\n",
       "    <tr>\n",
       "      <th>17</th>\n",
       "      <td>Finland</td>\n",
       "      <td>7.427230e+05</td>\n",
       "    </tr>\n",
       "    <tr>\n",
       "      <th>1</th>\n",
       "      <td>Austria</td>\n",
       "      <td>8.719660e+05</td>\n",
       "    </tr>\n",
       "    <tr>\n",
       "      <th>13</th>\n",
       "      <td>Denmark</td>\n",
       "      <td>1.102561e+06</td>\n",
       "    </tr>\n",
       "    <tr>\n",
       "      <th>46</th>\n",
       "      <td>Switzerland</td>\n",
       "      <td>1.165185e+06</td>\n",
       "    </tr>\n",
       "    <tr>\n",
       "      <th>44</th>\n",
       "      <td>Spain</td>\n",
       "      <td>1.403419e+06</td>\n",
       "    </tr>\n",
       "    <tr>\n",
       "      <th>2</th>\n",
       "      <td>Belgium</td>\n",
       "      <td>1.687010e+06</td>\n",
       "    </tr>\n",
       "    <tr>\n",
       "      <th>26</th>\n",
       "      <td>Italy</td>\n",
       "      <td>1.860044e+06</td>\n",
       "    </tr>\n",
       "    <tr>\n",
       "      <th>5</th>\n",
       "      <td>Canada</td>\n",
       "      <td>2.416440e+06</td>\n",
       "    </tr>\n",
       "    <tr>\n",
       "      <th>45</th>\n",
       "      <td>Sweden</td>\n",
       "      <td>2.509214e+06</td>\n",
       "    </tr>\n",
       "    <tr>\n",
       "      <th>28</th>\n",
       "      <td>Korea</td>\n",
       "      <td>2.516838e+06</td>\n",
       "    </tr>\n",
       "    <tr>\n",
       "      <th>33</th>\n",
       "      <td>Netherlands</td>\n",
       "      <td>3.488004e+06</td>\n",
       "    </tr>\n",
       "    <tr>\n",
       "      <th>27</th>\n",
       "      <td>Japan</td>\n",
       "      <td>3.603756e+06</td>\n",
       "    </tr>\n",
       "    <tr>\n",
       "      <th>35</th>\n",
       "      <td>Norway</td>\n",
       "      <td>4.793634e+06</td>\n",
       "    </tr>\n",
       "    <tr>\n",
       "      <th>50</th>\n",
       "      <td>United Kingdom</td>\n",
       "      <td>6.283637e+06</td>\n",
       "    </tr>\n",
       "    <tr>\n",
       "      <th>18</th>\n",
       "      <td>France</td>\n",
       "      <td>6.787772e+06</td>\n",
       "    </tr>\n",
       "    <tr>\n",
       "      <th>19</th>\n",
       "      <td>Germany</td>\n",
       "      <td>1.020111e+07</td>\n",
       "    </tr>\n",
       "    <tr>\n",
       "      <th>14</th>\n",
       "      <td>EU27</td>\n",
       "      <td>3.324256e+07</td>\n",
       "    </tr>\n",
       "    <tr>\n",
       "      <th>23</th>\n",
       "      <td>India</td>\n",
       "      <td>6.341878e+07</td>\n",
       "    </tr>\n",
       "    <tr>\n",
       "      <th>38</th>\n",
       "      <td>Rest of the world</td>\n",
       "      <td>3.089968e+08</td>\n",
       "    </tr>\n",
       "    <tr>\n",
       "      <th>48</th>\n",
       "      <td>USA</td>\n",
       "      <td>4.112801e+08</td>\n",
       "    </tr>\n",
       "    <tr>\n",
       "      <th>16</th>\n",
       "      <td>Europe</td>\n",
       "      <td>5.937754e+08</td>\n",
       "    </tr>\n",
       "    <tr>\n",
       "      <th>7</th>\n",
       "      <td>China</td>\n",
       "      <td>1.148052e+09</td>\n",
       "    </tr>\n",
       "    <tr>\n",
       "      <th>51</th>\n",
       "      <td>World</td>\n",
       "      <td>2.520120e+09</td>\n",
       "    </tr>\n",
       "  </tbody>\n",
       "</table>\n",
       "</div>"
      ],
      "text/plain": [
       "                 Regions         Value\n",
       "40            Seychelles  3.380000e+02\n",
       "11                Cyprus  2.260000e+03\n",
       "15               Estonia  4.585000e+03\n",
       "4               Bulgaria  4.623000e+03\n",
       "29                Latvia  4.687000e+03\n",
       "30             Lithuania  6.673000e+03\n",
       "10               Croatia  7.557000e+03\n",
       "41              Slovakia  1.335100e+04\n",
       "42              Slovenia  1.336300e+04\n",
       "6                  Chile  1.445800e+04\n",
       "8               Colombia  1.602300e+04\n",
       "43          South Africa  1.653300e+04\n",
       "9             Costa Rica  2.763100e+04\n",
       "12        Czech Republic  3.430000e+04\n",
       "39               Romania  3.948800e+04\n",
       "21               Hungary  4.203500e+04\n",
       "31            Luxembourg  4.210000e+04\n",
       "49  United Arab Emirates  5.280400e+04\n",
       "24               Ireland  8.857000e+04\n",
       "20                Greece  1.053560e+05\n",
       "32                Mexico  1.425910e+05\n",
       "22               Iceland  1.897660e+05\n",
       "47               Turkiye  1.983380e+05\n",
       "3                 Brazil  2.649470e+05\n",
       "36                Poland  3.432870e+05\n",
       "34           New Zealand  3.714620e+05\n",
       "25                Israel  4.821870e+05\n",
       "0              Australia  5.788320e+05\n",
       "37              Portugal  6.749960e+05\n",
       "17               Finland  7.427230e+05\n",
       "1                Austria  8.719660e+05\n",
       "13               Denmark  1.102561e+06\n",
       "46           Switzerland  1.165185e+06\n",
       "44                 Spain  1.403419e+06\n",
       "2                Belgium  1.687010e+06\n",
       "26                 Italy  1.860044e+06\n",
       "5                 Canada  2.416440e+06\n",
       "45                Sweden  2.509214e+06\n",
       "28                 Korea  2.516838e+06\n",
       "33           Netherlands  3.488004e+06\n",
       "27                 Japan  3.603756e+06\n",
       "35                Norway  4.793634e+06\n",
       "50        United Kingdom  6.283637e+06\n",
       "18                France  6.787772e+06\n",
       "19               Germany  1.020111e+07\n",
       "14                  EU27  3.324256e+07\n",
       "23                 India  6.341878e+07\n",
       "38     Rest of the world  3.089968e+08\n",
       "48                   USA  4.112801e+08\n",
       "16                Europe  5.937754e+08\n",
       "7                  China  1.148052e+09\n",
       "51                 World  2.520120e+09"
      ]
     },
     "execution_count": 123,
     "metadata": {},
     "output_type": "execute_result"
    }
   ],
   "source": [
    "df_vehicles_region.sort_values(by=['Value'])"
   ]
  },
  {
   "cell_type": "code",
   "execution_count": 71,
   "id": "ca7a5493-3931-4ae1-8ff6-cabbdc8eec60",
   "metadata": {},
   "outputs": [
    {
     "data": {
      "text/html": [
       "<div>\n",
       "<style scoped>\n",
       "    .dataframe tbody tr th:only-of-type {\n",
       "        vertical-align: middle;\n",
       "    }\n",
       "\n",
       "    .dataframe tbody tr th {\n",
       "        vertical-align: top;\n",
       "    }\n",
       "\n",
       "    .dataframe thead th {\n",
       "        text-align: right;\n",
       "    }\n",
       "</style>\n",
       "<table border=\"1\" class=\"dataframe\">\n",
       "  <thead>\n",
       "    <tr style=\"text-align: right;\">\n",
       "      <th></th>\n",
       "      <th>Regions</th>\n",
       "      <th>Value</th>\n",
       "    </tr>\n",
       "  </thead>\n",
       "  <tbody>\n",
       "    <tr>\n",
       "      <th>51</th>\n",
       "      <td>World</td>\n",
       "      <td>2.520120e+09</td>\n",
       "    </tr>\n",
       "    <tr>\n",
       "      <th>7</th>\n",
       "      <td>China</td>\n",
       "      <td>1.148052e+09</td>\n",
       "    </tr>\n",
       "    <tr>\n",
       "      <th>16</th>\n",
       "      <td>Europe</td>\n",
       "      <td>5.937754e+08</td>\n",
       "    </tr>\n",
       "    <tr>\n",
       "      <th>48</th>\n",
       "      <td>USA</td>\n",
       "      <td>4.112801e+08</td>\n",
       "    </tr>\n",
       "    <tr>\n",
       "      <th>38</th>\n",
       "      <td>Rest of the world</td>\n",
       "      <td>3.089968e+08</td>\n",
       "    </tr>\n",
       "    <tr>\n",
       "      <th>23</th>\n",
       "      <td>India</td>\n",
       "      <td>6.341878e+07</td>\n",
       "    </tr>\n",
       "    <tr>\n",
       "      <th>14</th>\n",
       "      <td>EU27</td>\n",
       "      <td>3.324256e+07</td>\n",
       "    </tr>\n",
       "    <tr>\n",
       "      <th>19</th>\n",
       "      <td>Germany</td>\n",
       "      <td>1.020111e+07</td>\n",
       "    </tr>\n",
       "    <tr>\n",
       "      <th>18</th>\n",
       "      <td>France</td>\n",
       "      <td>6.787772e+06</td>\n",
       "    </tr>\n",
       "    <tr>\n",
       "      <th>50</th>\n",
       "      <td>United Kingdom</td>\n",
       "      <td>6.283637e+06</td>\n",
       "    </tr>\n",
       "  </tbody>\n",
       "</table>\n",
       "</div>"
      ],
      "text/plain": [
       "              Regions         Value\n",
       "51              World  2.520120e+09\n",
       "7               China  1.148052e+09\n",
       "16             Europe  5.937754e+08\n",
       "48                USA  4.112801e+08\n",
       "38  Rest of the world  3.089968e+08\n",
       "23              India  6.341878e+07\n",
       "14               EU27  3.324256e+07\n",
       "19            Germany  1.020111e+07\n",
       "18             France  6.787772e+06\n",
       "50     United Kingdom  6.283637e+06"
      ]
     },
     "execution_count": 71,
     "metadata": {},
     "output_type": "execute_result"
    }
   ],
   "source": [
    "df_vehicles_region.sort_values(by=['Value'], ascending = False).head(10) #adicionado o .head(10) no final ara apresentar só os 10 \"primeiros\" maiores."
   ]
  },
  {
   "cell_type": "code",
   "execution_count": 87,
   "id": "814ec54a-63c2-4434-b781-25016d08b3bc",
   "metadata": {},
   "outputs": [
    {
     "name": "stdout",
     "output_type": "stream",
     "text": [
      "           Regions         Value\n",
      "7            China  1.148052e+09\n",
      "16          Europe  5.937754e+08\n",
      "48             USA  4.112801e+08\n",
      "23           India  6.341878e+07\n",
      "14            EU27  3.324256e+07\n",
      "19         Germany  1.020111e+07\n",
      "18          France  6.787772e+06\n",
      "50  United Kingdom  6.283637e+06\n",
      "35          Norway  4.793634e+06\n",
      "27           Japan  3.603756e+06\n"
     ]
    }
   ],
   "source": [
    "df_vehicles_region = pd.DataFrame(dictionary_vehicles.items(), columns=['Regions','Value'])\n",
    "\n",
    "df_top_ten = df_vehicles_region.loc[(df_vehicles_region['Regions'] != 'World') &\n",
    "                       (df_vehicles_region['Regions'] != 'Rest of the world')] \\\n",
    "                        .sort_values(by=['Value'], ascending = False) \\\n",
    "                        .head(10)  # o contrabarra --> \\ serve para deixar quebrar a linha\n",
    "\n",
    "print(df_top_ten)\n"
   ]
  },
  {
   "cell_type": "code",
   "execution_count": 93,
   "id": "d6299e00-4502-4d54-ace1-6eda86884cad",
   "metadata": {},
   "outputs": [
    {
     "data": {
      "text/plain": [
       "<BarContainer object of 10 artists>"
      ]
     },
     "execution_count": 93,
     "metadata": {},
     "output_type": "execute_result"
    },
    {
     "data": {
      "image/png": "[encoded data removed]",
      "text/plain": [
       "<Figure size 1500x500 with 1 Axes>"
      ]
     },
     "metadata": {},
     "output_type": "display_data"
    }
   ],
   "source": [
    "df_top_ten\n",
    "\n",
    "x = df_top_ten['Regions']\n",
    "y = df_top_ten['Value']\n",
    "\n",
    "plt.figure(figsize = (15, 5))\n",
    "plt.title('Vendas por região')\n",
    "plt.xlabel('Regiões')\n",
    "plt.ylabel('Bilhões de carros')\n",
    "plt.bar(x,y)\n"
   ]
  },
  {
   "cell_type": "code",
   "execution_count": 95,
   "id": "b8c64b3c-cb88-48d4-8a16-7b697171bb5a",
   "metadata": {},
   "outputs": [
    {
     "data": {
      "text/plain": [
       "array(['BEV', 'PHEV', 'FCEV'], dtype=object)"
      ]
     },
     "execution_count": 95,
     "metadata": {},
     "output_type": "execute_result"
    }
   ],
   "source": [
    "df_vehicles['powertrain'].unique()"
   ]
  },
  {
   "cell_type": "code",
   "execution_count": 105,
   "id": "44b45783-7090-4543-988e-7346f7ef5215",
   "metadata": {},
   "outputs": [],
   "source": [
    "df_BEV = df_vehicles.loc[df_vehicles['powertrain'] == 'BEV']\n",
    "df_PHEV = df_vehicles.loc[df_vehicles['powertrain'] == 'PHEV']\n",
    "df_FCEV = df_vehicles.loc[df_vehicles['powertrain'] == 'FCEV']\n",
    "\n",
    "BEV = df_BEV.groupby('year')['value'].sum()\n",
    "PHEV = df_PHEV.groupby('year')['value'].sum()\n",
    "FCEV = df_FCEV.groupby('year')['value'].sum()"
   ]
  },
  {
   "cell_type": "code",
   "execution_count": 107,
   "id": "b0d47dc6-a140-4f63-8e62-3aa0847710f9",
   "metadata": {},
   "outputs": [
    {
     "data": {
      "text/plain": [
       "<matplotlib.legend.Legend at 0x20d4e90f0b0>"
      ]
     },
     "execution_count": 107,
     "metadata": {},
     "output_type": "execute_result"
    },
    {
     "data": {
      "image/png": "[encoded data removed]",
      "text/plain": [
       "<Figure size 640x480 with 1 Axes>"
      ]
     },
     "metadata": {},
     "output_type": "display_data"
    }
   ],
   "source": [
    "plt.plot(BEV, label = 'BEV')\n",
    "plt.plot(PHEV, label = 'PHEV')\n",
    "plt.plot(FCEV, label = 'FCEV')\n",
    "plt.legend(title = 'powertrain')"
   ]
  },
  {
   "cell_type": "code",
   "execution_count": null,
   "id": "a01a8f20-eba8-4772-934d-53009210effe",
   "metadata": {},
   "outputs": [],
   "source": []
  }
 ],
 "metadata": {
  "kernelspec": {
   "display_name": "Python 3 (ipykernel)",
   "language": "python",
   "name": "python3"
  },
  "language_info": {
   "codemirror_mode": {
    "name": "ipython",
    "version": 3
   },
   "file_extension": ".py",
   "mimetype": "text/x-python",
   "name": "python",
   "nbconvert_exporter": "python",
   "pygments_lexer": "ipython3",
   "version": "3.12.4"
  }
 },
 "nbformat": 4,
 "nbformat_minor": 5
}
